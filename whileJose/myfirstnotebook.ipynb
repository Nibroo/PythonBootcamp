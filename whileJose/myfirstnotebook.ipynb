{
 "cells": [
  {
   "cell_type": "code",
   "execution_count": null,
   "metadata": {
    "tags": []
   },
   "outputs": [],
   "source": [
    "n = 'nibir'\n",
    "\n",
    "print(n)"
   ]
  },
  {
   "cell_type": "code",
   "execution_count": null,
   "metadata": {},
   "outputs": [],
   "source": [
    "work_hours = [('Nibir',500),('Nihan',300),('Tihan',100)]\n",
    "\n",
    "def eom(work_hours):                # Finding the most work-hour Employee\n",
    "\n",
    "    c_max = 0                           # PLaceholder\n",
    "    c_eom = ''                          # PLaceholder\n",
    "\n",
    "    for em,h in work_hours:\n",
    "        if h > c_max:\n",
    "            c_max = h\n",
    "            c_eom = em\n",
    "        else:\n",
    "            pass\n",
    "\n",
    "    return (c_eom,c_max)\n",
    "\n",
    "eom(work_hours)"
   ]
  },
  {
   "cell_type": "code",
   "execution_count": null,
   "metadata": {},
   "outputs": [],
   "source": [
    "def summer_69_s(arr):\n",
    "    \n",
    "    total = 0\n",
    "    add = True\n",
    "\n",
    "    for i in arr:\n",
    "        flip_case = i==6 or (not add and i==9)\n",
    "        if flip_case:\n",
    "            add = not add\n",
    "            continue\n",
    "        if add:\n",
    "            total += i\n",
    "        \n",
    "    return total"
   ]
  },
  {
   "cell_type": "code",
   "execution_count": null,
   "metadata": {},
   "outputs": [],
   "source": [
    "summer_69_s([1, 3, 5])"
   ]
  },
  {
   "cell_type": "code",
   "execution_count": null,
   "metadata": {},
   "outputs": [],
   "source": [
    "summer_69_s([4, 5, 6, 7, 8, 9])"
   ]
  },
  {
   "cell_type": "code",
   "execution_count": null,
   "metadata": {},
   "outputs": [],
   "source": []
  }
 ],
 "metadata": {
  "kernelspec": {
   "display_name": "Python 3",
   "language": "python",
   "name": "python3"
  },
  "language_info": {
   "codemirror_mode": {
    "name": "ipython",
    "version": 3
   },
   "file_extension": ".py",
   "mimetype": "text/x-python",
   "name": "python",
   "nbconvert_exporter": "python",
   "pygments_lexer": "ipython3",
   "version": "3.8.3-final"
  }
 },
 "nbformat": 4,
 "nbformat_minor": 4
}